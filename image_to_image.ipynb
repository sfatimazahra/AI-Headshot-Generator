{
  "nbformat": 4,
  "nbformat_minor": 0,
  "metadata": {
    "colab": {
      "provenance": [],
      "authorship_tag": "ABX9TyOJP9cqpU8y3CN8TxQM6Zha",
      "include_colab_link": true
    },
    "kernelspec": {
      "name": "python3",
      "display_name": "Python 3"
    },
    "language_info": {
      "name": "python"
    }
  },
  "cells": [
    {
      "cell_type": "markdown",
      "metadata": {
        "id": "view-in-github",
        "colab_type": "text"
      },
      "source": [
        "<a href=\"https://colab.research.google.com/github/sfatimazahra/AI-Headshot-Generator/blob/master/image_to_image.ipynb\" target=\"_parent\"><img src=\"https://colab.research.google.com/assets/colab-badge.svg\" alt=\"Open In Colab\"/></a>"
      ]
    },
    {
      "cell_type": "markdown",
      "source": [
        "**Installation and Imports**"
      ],
      "metadata": {
        "id": "ectoQsrq4jOD"
      }
    },
    {
      "cell_type": "code",
      "execution_count": null,
      "metadata": {
        "id": "73Q5SIIx4alw"
      },
      "outputs": [],
      "source": [
        "!pip install accelerate\n",
        "!pip install git+https://github.com/huggingface/diffusers\n",
        "\n",
        "import torch\n",
        "from PIL import Image\n",
        "print(torch.__version__)"
      ]
    },
    {
      "cell_type": "markdown",
      "source": [
        "**Functions**"
      ],
      "metadata": {
        "id": "5LxCRjwJ4szW"
      }
    },
    {
      "cell_type": "code",
      "source": [],
      "metadata": {
        "id": "pFhmjh-Z4u4x"
      },
      "execution_count": null,
      "outputs": []
    },
    {
      "cell_type": "markdown",
      "source": [
        "**Image to Image**"
      ],
      "metadata": {
        "id": "m99yRQCO42t6"
      }
    },
    {
      "cell_type": "code",
      "source": [
        "\n",
        "from diffusers import AutoPipelineForImage2Image\n",
        "from diffusers.utils import make_image_grid, load_image\n",
        "\n",
        "pipeline = AutoPipelineForImage2Image.from_pretrained(\n",
        "    \"runwayml/stable-diffusion-v1-5\", torch_dtype=torch.float16, variant=\"fp16\", use_safetensors=True\n",
        ")\n",
        "pipeline.enable_model_cpu_offload()\n",
        "# remove following line if xFormers is not installed or you have PyTorch 2.0 or higher installed\n",
        "# pipeline.enable_xformers_memory_efficient_attention()\n",
        "\n",
        "# prepare image\n",
        "url = \"https://huggingface.co/datasets/huggingface/documentation-images/resolve/main/diffusers/img2img-init.png\"\n",
        "init_image = load_image(url)\n",
        "\n",
        "prompt = \"Astronaut in a jungle, cold color palette, muted colors, detailed, 8k\"\n",
        "\n",
        "# pass prompt and image to pipeline\n",
        "image = pipeline(prompt, image=init_image).images[0]\n",
        "make_image_grid([init_image, image], rows=1, cols=2)"
      ],
      "metadata": {
        "id": "qly9Fnyg46JM"
      },
      "execution_count": null,
      "outputs": []
    },
    {
      "cell_type": "markdown",
      "source": [
        "Changing Strengths"
      ],
      "metadata": {
        "id": "372DjLW349Dv"
      }
    },
    {
      "cell_type": "code",
      "source": [
        "strengths = [0.2, 0.4, 0.6, 0.8]\n",
        "\n",
        "# Generate images for different strengths\n",
        "images = []\n",
        "for strength in strengths:\n",
        "    image = pipeline(prompt, image=init_image, strength=strength).images[0]\n",
        "    images.append(image)\n",
        "\n",
        "# Create image grid\n",
        "image_grid = make_image_grid(images, rows=1, cols=len(strengths))\n",
        "image_grid.save(\"image_grid.png\")"
      ],
      "metadata": {
        "id": "gZ0Ew9Vi4_xa"
      },
      "execution_count": null,
      "outputs": []
    },
    {
      "cell_type": "markdown",
      "source": [
        "Tweaking strengths, guidance scale, and inference steps\n",
        "\n",
        "---\n",
        "\n"
      ],
      "metadata": {
        "id": "eoO3hbDA5AvX"
      }
    },
    {
      "cell_type": "code",
      "source": [
        "strengths = [0.2, 0.4, 0.6, 0.8]\n",
        "guidance_scales = [7.0, 7.5, 8.0]\n",
        "inference_steps = range(20, 61, 10)\n",
        "\n",
        "# Generate images for different parameter combinations\n",
        "images = []\n",
        "for strength in strengths:\n",
        "    for guidance_scale in guidance_scales:\n",
        "        for inference_step in inference_steps:\n",
        "            image = pipeline(prompt, image=init_image, strength=strength, guidance_scale=guidance_scale, num_inference_steps=inference_step).images[0]\n",
        "            images.append(image)\n",
        "print(len(images))\n",
        "# Create image grid (adjust rows and cols based on the number of images)\n",
        "image_grid = make_image_grid(images, rows=5, cols=12)\n",
        "image_grid.save(\"image_grid.png\")"
      ],
      "metadata": {
        "id": "e_YSHU8E5D5A"
      },
      "execution_count": null,
      "outputs": []
    },
    {
      "cell_type": "markdown",
      "source": [
        "Uploading image from drive"
      ],
      "metadata": {
        "id": "YRS0ztA55JD0"
      }
    },
    {
      "cell_type": "code",
      "source": [
        "from google.colab import drive\n",
        "drive.mount('/content/drive')\n",
        "image_path = \"/content/drive/MyDrive/Images/your_image.jpg\"\n",
        "init_image = load_image(image_path)\n"
      ],
      "metadata": {
        "id": "GA1IQZ6D5KG9"
      },
      "execution_count": null,
      "outputs": []
    }
  ]
}